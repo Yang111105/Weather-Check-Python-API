{
 "cells": [
  {
   "cell_type": "markdown",
   "metadata": {},
   "source": [
    "# VacationPy\n",
    "----\n",
    "\n",
    "#### Note\n",
    "* Keep an eye on your API usage. Use https://developers.google.com/maps/reporting/gmp-reporting as reference for how to monitor your usage and billing.\n",
    "\n",
    "* Instructions have been included for each segment. You do not have to follow them exactly, but they are included to help you think through the steps."
   ]
  },
  {
   "cell_type": "code",
   "execution_count": 1,
   "metadata": {},
   "outputs": [],
   "source": [
    "# Dependencies and Setup\n",
    "import matplotlib.pyplot as plt\n",
    "import pandas as pd\n",
    "import numpy as np\n",
    "import requests\n",
    "import gmaps\n",
    "import os\n",
    "\n",
    "# Import API key\n",
    "from api_keys import g_key\n",
    "\n",
    "gmaps.configure(api_key=g_key)\n",
    "\n",
    "import warnings\n",
    "warnings.filterwarnings(\"ignore\")"
   ]
  },
  {
   "cell_type": "markdown",
   "metadata": {},
   "source": [
    "### Store Part I results into DataFrame\n",
    "* Load the csv exported in Part I to a DataFrame"
   ]
  },
  {
   "cell_type": "code",
   "execution_count": 2,
   "metadata": {},
   "outputs": [
    {
     "data": {
      "text/html": [
       "<div>\n",
       "<style scoped>\n",
       "    .dataframe tbody tr th:only-of-type {\n",
       "        vertical-align: middle;\n",
       "    }\n",
       "\n",
       "    .dataframe tbody tr th {\n",
       "        vertical-align: top;\n",
       "    }\n",
       "\n",
       "    .dataframe thead th {\n",
       "        text-align: right;\n",
       "    }\n",
       "</style>\n",
       "<table border=\"1\" class=\"dataframe\">\n",
       "  <thead>\n",
       "    <tr style=\"text-align: right;\">\n",
       "      <th></th>\n",
       "      <th>City</th>\n",
       "      <th>Lat</th>\n",
       "      <th>Lng</th>\n",
       "      <th>Max Temp</th>\n",
       "      <th>Humidity</th>\n",
       "      <th>Cloudiness</th>\n",
       "      <th>Wind Speed</th>\n",
       "      <th>Country</th>\n",
       "      <th>Date</th>\n",
       "    </tr>\n",
       "  </thead>\n",
       "  <tbody>\n",
       "    <tr>\n",
       "      <th>0</th>\n",
       "      <td>puerto ayora</td>\n",
       "      <td>-0.7393</td>\n",
       "      <td>-90.3518</td>\n",
       "      <td>68.56</td>\n",
       "      <td>96</td>\n",
       "      <td>93</td>\n",
       "      <td>10.00</td>\n",
       "      <td>EC</td>\n",
       "      <td>1.633667e+09</td>\n",
       "    </tr>\n",
       "    <tr>\n",
       "      <th>1</th>\n",
       "      <td>saldanha</td>\n",
       "      <td>-33.0117</td>\n",
       "      <td>17.9442</td>\n",
       "      <td>57.25</td>\n",
       "      <td>76</td>\n",
       "      <td>59</td>\n",
       "      <td>14.67</td>\n",
       "      <td>ZA</td>\n",
       "      <td>1.633667e+09</td>\n",
       "    </tr>\n",
       "    <tr>\n",
       "      <th>2</th>\n",
       "      <td>georgetown</td>\n",
       "      <td>5.4112</td>\n",
       "      <td>100.3354</td>\n",
       "      <td>86.90</td>\n",
       "      <td>80</td>\n",
       "      <td>20</td>\n",
       "      <td>1.01</td>\n",
       "      <td>MY</td>\n",
       "      <td>1.633666e+09</td>\n",
       "    </tr>\n",
       "    <tr>\n",
       "      <th>3</th>\n",
       "      <td>khatanga</td>\n",
       "      <td>71.9667</td>\n",
       "      <td>102.5000</td>\n",
       "      <td>21.87</td>\n",
       "      <td>95</td>\n",
       "      <td>100</td>\n",
       "      <td>3.94</td>\n",
       "      <td>RU</td>\n",
       "      <td>1.633667e+09</td>\n",
       "    </tr>\n",
       "    <tr>\n",
       "      <th>4</th>\n",
       "      <td>saint george</td>\n",
       "      <td>37.1041</td>\n",
       "      <td>-113.5841</td>\n",
       "      <td>72.95</td>\n",
       "      <td>48</td>\n",
       "      <td>1</td>\n",
       "      <td>4.00</td>\n",
       "      <td>US</td>\n",
       "      <td>1.633666e+09</td>\n",
       "    </tr>\n",
       "    <tr>\n",
       "      <th>...</th>\n",
       "      <td>...</td>\n",
       "      <td>...</td>\n",
       "      <td>...</td>\n",
       "      <td>...</td>\n",
       "      <td>...</td>\n",
       "      <td>...</td>\n",
       "      <td>...</td>\n",
       "      <td>...</td>\n",
       "      <td>...</td>\n",
       "    </tr>\n",
       "    <tr>\n",
       "      <th>555</th>\n",
       "      <td>agua branca</td>\n",
       "      <td>-5.8922</td>\n",
       "      <td>-42.6361</td>\n",
       "      <td>80.62</td>\n",
       "      <td>48</td>\n",
       "      <td>93</td>\n",
       "      <td>5.26</td>\n",
       "      <td>BR</td>\n",
       "      <td>1.633667e+09</td>\n",
       "    </tr>\n",
       "    <tr>\n",
       "      <th>556</th>\n",
       "      <td>santa helena de goias</td>\n",
       "      <td>-17.8136</td>\n",
       "      <td>-50.5969</td>\n",
       "      <td>75.79</td>\n",
       "      <td>68</td>\n",
       "      <td>86</td>\n",
       "      <td>7.72</td>\n",
       "      <td>BR</td>\n",
       "      <td>1.633667e+09</td>\n",
       "    </tr>\n",
       "    <tr>\n",
       "      <th>557</th>\n",
       "      <td>aginskoye</td>\n",
       "      <td>51.1000</td>\n",
       "      <td>114.5300</td>\n",
       "      <td>46.44</td>\n",
       "      <td>61</td>\n",
       "      <td>100</td>\n",
       "      <td>6.29</td>\n",
       "      <td>RU</td>\n",
       "      <td>1.633667e+09</td>\n",
       "    </tr>\n",
       "    <tr>\n",
       "      <th>558</th>\n",
       "      <td>zhezkazgan</td>\n",
       "      <td>47.8043</td>\n",
       "      <td>67.7144</td>\n",
       "      <td>38.80</td>\n",
       "      <td>56</td>\n",
       "      <td>1</td>\n",
       "      <td>13.15</td>\n",
       "      <td>KZ</td>\n",
       "      <td>1.633667e+09</td>\n",
       "    </tr>\n",
       "    <tr>\n",
       "      <th>559</th>\n",
       "      <td>ust-ilimsk</td>\n",
       "      <td>58.0006</td>\n",
       "      <td>102.6619</td>\n",
       "      <td>34.74</td>\n",
       "      <td>96</td>\n",
       "      <td>100</td>\n",
       "      <td>8.21</td>\n",
       "      <td>RU</td>\n",
       "      <td>1.633667e+09</td>\n",
       "    </tr>\n",
       "  </tbody>\n",
       "</table>\n",
       "<p>560 rows × 9 columns</p>\n",
       "</div>"
      ],
      "text/plain": [
       "                      City      Lat       Lng  Max Temp  Humidity  Cloudiness  \\\n",
       "0             puerto ayora  -0.7393  -90.3518     68.56        96          93   \n",
       "1                 saldanha -33.0117   17.9442     57.25        76          59   \n",
       "2               georgetown   5.4112  100.3354     86.90        80          20   \n",
       "3                 khatanga  71.9667  102.5000     21.87        95         100   \n",
       "4             saint george  37.1041 -113.5841     72.95        48           1   \n",
       "..                     ...      ...       ...       ...       ...         ...   \n",
       "555            agua branca  -5.8922  -42.6361     80.62        48          93   \n",
       "556  santa helena de goias -17.8136  -50.5969     75.79        68          86   \n",
       "557              aginskoye  51.1000  114.5300     46.44        61         100   \n",
       "558             zhezkazgan  47.8043   67.7144     38.80        56           1   \n",
       "559             ust-ilimsk  58.0006  102.6619     34.74        96         100   \n",
       "\n",
       "     Wind Speed Country          Date  \n",
       "0         10.00      EC  1.633667e+09  \n",
       "1         14.67      ZA  1.633667e+09  \n",
       "2          1.01      MY  1.633666e+09  \n",
       "3          3.94      RU  1.633667e+09  \n",
       "4          4.00      US  1.633666e+09  \n",
       "..          ...     ...           ...  \n",
       "555        5.26      BR  1.633667e+09  \n",
       "556        7.72      BR  1.633667e+09  \n",
       "557        6.29      RU  1.633667e+09  \n",
       "558       13.15      KZ  1.633667e+09  \n",
       "559        8.21      RU  1.633667e+09  \n",
       "\n",
       "[560 rows x 9 columns]"
      ]
     },
     "execution_count": 2,
     "metadata": {},
     "output_type": "execute_result"
    }
   ],
   "source": [
    "city_data = pd.read_csv(\"output_data/clean_city_data.csv\")\n",
    "city_data"
   ]
  },
  {
   "cell_type": "markdown",
   "metadata": {},
   "source": [
    "### Humidity Heatmap\n",
    "* Configure gmaps.\n",
    "* Use the Lat and Lng as locations and Humidity as the weight.\n",
    "* Add Heatmap layer to map."
   ]
  },
  {
   "cell_type": "code",
   "execution_count": 3,
   "metadata": {},
   "outputs": [
    {
     "data": {
      "text/plain": [
       "100"
      ]
     },
     "execution_count": 3,
     "metadata": {},
     "output_type": "execute_result"
    }
   ],
   "source": [
    "locations = city_data[[\"Lat\",\"Lng\"]].astype(float)\n",
    "humidity = city_data[\"Humidity\"]\n",
    "humidity.max()"
   ]
  },
  {
   "cell_type": "code",
   "execution_count": 4,
   "metadata": {},
   "outputs": [
    {
     "data": {
      "application/vnd.jupyter.widget-view+json": {
       "model_id": "cca58249007543b09e9a8dea3c78a081",
       "version_major": 2,
       "version_minor": 0
      },
      "text/plain": [
       "Figure(layout=FigureLayout(border='1px solid black', height='400px', margin='0 auto 0 auto', padding='1px', wi…"
      ]
     },
     "metadata": {},
     "output_type": "display_data"
    }
   ],
   "source": [
    "fig_layout = {'width': '800px',\n",
    "              'height': '400px',\n",
    "              'border': '1px solid black',\n",
    "              'padding': '1px',\n",
    "              'margin': '0 auto 0 auto'\n",
    "             }\n",
    "fig = gmaps.figure(layout=fig_layout)\n",
    "heat_layer = gmaps.heatmap_layer(locations, weights=humidity, dissipating=False, max_intensity=humidity.max(), point_radius=3)\n",
    "fig.add_layer(heat_layer)\n",
    "fig"
   ]
  },
  {
   "cell_type": "markdown",
   "metadata": {},
   "source": [
    "### Create new DataFrame fitting weather criteria\n",
    "* Narrow down the cities to fit weather conditions.\n",
    "* Drop any rows will null values."
   ]
  },
  {
   "cell_type": "code",
   "execution_count": 5,
   "metadata": {},
   "outputs": [
    {
     "data": {
      "text/plain": [
       "Int64Index([4, 148, 190, 224, 236], dtype='int64')"
      ]
     },
     "execution_count": 5,
     "metadata": {},
     "output_type": "execute_result"
    }
   ],
   "source": [
    "# A max temperature lower than 80 degrees but higher than 70.\n",
    "# Wind speed less than 10 mph.\n",
    "# Cloudiness Less than 5.\n",
    "# Humidity Less than 50.\n",
    "hotel_df = city_data.loc[(city_data['Max Temp']<80)&(city_data['Max Temp']>70)&(city_data['Wind Speed']<10)&(city_data['Cloudiness']<5)&(city_data['Humidity']<50),:]\n",
    "hotel_df.index"
   ]
  },
  {
   "cell_type": "markdown",
   "metadata": {},
   "source": [
    "### Hotel Map\n",
    "* Store into variable named `hotel_df`.\n",
    "* Add a \"Hotel Name\" column to the DataFrame.\n",
    "* Set parameters to search for hotels with 5000 meters.\n",
    "* Hit the Google Places API for each city's coordinates.\n",
    "* Store the first Hotel result into the DataFrame.\n",
    "* Plot markers on top of the heatmap."
   ]
  },
  {
   "cell_type": "code",
   "execution_count": 6,
   "metadata": {},
   "outputs": [],
   "source": [
    "hotel_df['Hotel Name']=\"\""
   ]
  },
  {
   "cell_type": "code",
   "execution_count": 7,
   "metadata": {},
   "outputs": [
    {
     "name": "stdout",
     "output_type": "stream",
     "text": [
      "Searching for hotel in city saint george\n",
      "Searching for hotel in city arlit\n",
      "Searching for hotel in city riyadh\n",
      "Searching for hotel in city jalu\n",
      "Searching for hotel in city matamoros\n"
     ]
    }
   ],
   "source": [
    "base_url = 'https://maps.googleapis.com/maps/api/place/nearbysearch/json'\n",
    "params = {\n",
    "          'radius':5000,\n",
    "          'types':'hotel',\n",
    "          'key':g_key,    \n",
    "}\n",
    "\n",
    "for index, row in hotel_df.iterrows():\n",
    "    lat = row['Lat']\n",
    "    lng = row['Lng']\n",
    "    params['location']=f'{lat},{lng}'\n",
    "    name = requests.get(base_url, params = params).json()\n",
    "    try:\n",
    "        hotel_df.loc[index,'Hotel Name'] = name['results'][1]['name']\n",
    "        print(f\"Searching for hotel in city {row['City']}\")\n",
    "    except:\n",
    "        print('Missing result...skipping.')"
   ]
  },
  {
   "cell_type": "code",
   "execution_count": 8,
   "metadata": {},
   "outputs": [
    {
     "data": {
      "text/html": [
       "<div>\n",
       "<style scoped>\n",
       "    .dataframe tbody tr th:only-of-type {\n",
       "        vertical-align: middle;\n",
       "    }\n",
       "\n",
       "    .dataframe tbody tr th {\n",
       "        vertical-align: top;\n",
       "    }\n",
       "\n",
       "    .dataframe thead th {\n",
       "        text-align: right;\n",
       "    }\n",
       "</style>\n",
       "<table border=\"1\" class=\"dataframe\">\n",
       "  <thead>\n",
       "    <tr style=\"text-align: right;\">\n",
       "      <th></th>\n",
       "      <th>City</th>\n",
       "      <th>Lat</th>\n",
       "      <th>Lng</th>\n",
       "      <th>Max Temp</th>\n",
       "      <th>Humidity</th>\n",
       "      <th>Cloudiness</th>\n",
       "      <th>Wind Speed</th>\n",
       "      <th>Country</th>\n",
       "      <th>Date</th>\n",
       "      <th>Hotel Name</th>\n",
       "    </tr>\n",
       "  </thead>\n",
       "  <tbody>\n",
       "    <tr>\n",
       "      <th>4</th>\n",
       "      <td>saint george</td>\n",
       "      <td>37.1041</td>\n",
       "      <td>-113.5841</td>\n",
       "      <td>72.95</td>\n",
       "      <td>48</td>\n",
       "      <td>1</td>\n",
       "      <td>4.00</td>\n",
       "      <td>US</td>\n",
       "      <td>1.633666e+09</td>\n",
       "      <td>Best Western Plus Abbey Inn</td>\n",
       "    </tr>\n",
       "    <tr>\n",
       "      <th>148</th>\n",
       "      <td>arlit</td>\n",
       "      <td>18.7369</td>\n",
       "      <td>7.3853</td>\n",
       "      <td>79.16</td>\n",
       "      <td>18</td>\n",
       "      <td>4</td>\n",
       "      <td>8.39</td>\n",
       "      <td>NE</td>\n",
       "      <td>1.633667e+09</td>\n",
       "      <td>Station Total</td>\n",
       "    </tr>\n",
       "    <tr>\n",
       "      <th>190</th>\n",
       "      <td>riyadh</td>\n",
       "      <td>24.6877</td>\n",
       "      <td>46.7219</td>\n",
       "      <td>77.14</td>\n",
       "      <td>36</td>\n",
       "      <td>0</td>\n",
       "      <td>3.04</td>\n",
       "      <td>SA</td>\n",
       "      <td>1.633667e+09</td>\n",
       "      <td>InterContinental Riyadh, an IHG Hotel</td>\n",
       "    </tr>\n",
       "    <tr>\n",
       "      <th>224</th>\n",
       "      <td>jalu</td>\n",
       "      <td>29.0331</td>\n",
       "      <td>21.5482</td>\n",
       "      <td>70.11</td>\n",
       "      <td>33</td>\n",
       "      <td>0</td>\n",
       "      <td>7.38</td>\n",
       "      <td>LY</td>\n",
       "      <td>1.633667e+09</td>\n",
       "      <td>fantry Kitchens</td>\n",
       "    </tr>\n",
       "    <tr>\n",
       "      <th>236</th>\n",
       "      <td>matamoros</td>\n",
       "      <td>25.5333</td>\n",
       "      <td>-103.2500</td>\n",
       "      <td>78.12</td>\n",
       "      <td>31</td>\n",
       "      <td>0</td>\n",
       "      <td>9.10</td>\n",
       "      <td>MX</td>\n",
       "      <td>1.633667e+09</td>\n",
       "      <td>Sepomex</td>\n",
       "    </tr>\n",
       "  </tbody>\n",
       "</table>\n",
       "</div>"
      ],
      "text/plain": [
       "             City      Lat       Lng  Max Temp  Humidity  Cloudiness  \\\n",
       "4    saint george  37.1041 -113.5841     72.95        48           1   \n",
       "148         arlit  18.7369    7.3853     79.16        18           4   \n",
       "190        riyadh  24.6877   46.7219     77.14        36           0   \n",
       "224          jalu  29.0331   21.5482     70.11        33           0   \n",
       "236     matamoros  25.5333 -103.2500     78.12        31           0   \n",
       "\n",
       "     Wind Speed Country          Date                             Hotel Name  \n",
       "4          4.00      US  1.633666e+09            Best Western Plus Abbey Inn  \n",
       "148        8.39      NE  1.633667e+09                          Station Total  \n",
       "190        3.04      SA  1.633667e+09  InterContinental Riyadh, an IHG Hotel  \n",
       "224        7.38      LY  1.633667e+09                        fantry Kitchens  \n",
       "236        9.10      MX  1.633667e+09                                Sepomex  "
      ]
     },
     "execution_count": 8,
     "metadata": {},
     "output_type": "execute_result"
    }
   ],
   "source": [
    "hotel_df"
   ]
  },
  {
   "cell_type": "code",
   "execution_count": 9,
   "metadata": {},
   "outputs": [],
   "source": [
    "# NOTE: Do not change any of the code in this cell\n",
    "\n",
    "# Using the template add the hotel marks to the heatmap\n",
    "info_box_template = \"\"\"\n",
    "<dl>\n",
    "<dt>Name</dt><dd>{Hotel Name}</dd>\n",
    "<dt>City</dt><dd>{City}</dd>\n",
    "<dt>Country</dt><dd>{Country}</dd>\n",
    "</dl>\n",
    "\"\"\"\n",
    "# Store the DataFrame Row\n",
    "# NOTE: be sure to update with your DataFrame name\n",
    "hotel_info = [info_box_template.format(**row) for index, row in hotel_df.iterrows()]\n",
    "locations = hotel_df[[\"Lat\", \"Lng\"]]"
   ]
  },
  {
   "cell_type": "code",
   "execution_count": 10,
   "metadata": {},
   "outputs": [
    {
     "data": {
      "application/vnd.jupyter.widget-view+json": {
       "model_id": "cca58249007543b09e9a8dea3c78a081",
       "version_major": 2,
       "version_minor": 0
      },
      "text/plain": [
       "Figure(layout=FigureLayout(border='1px solid black', height='400px', margin='0 auto 0 auto', padding='1px', wi…"
      ]
     },
     "metadata": {},
     "output_type": "display_data"
    }
   ],
   "source": [
    "# Add marker layer ontop of heat map\n",
    "markers = gmaps.marker_layer(locations,info_box_content=hotel_info)\n",
    "fig.add_layer(markers)\n",
    "# Display figure\n",
    "fig\n"
   ]
  },
  {
   "cell_type": "code",
   "execution_count": null,
   "metadata": {},
   "outputs": [],
   "source": []
  }
 ],
 "metadata": {
  "kernelspec": {
   "display_name": "Python 3",
   "language": "python",
   "name": "python3"
  },
  "language_info": {
   "codemirror_mode": {
    "name": "ipython",
    "version": 3
   },
   "file_extension": ".py",
   "mimetype": "text/x-python",
   "name": "python",
   "nbconvert_exporter": "python",
   "pygments_lexer": "ipython3",
   "version": "3.8.8"
  },
  "latex_envs": {
   "LaTeX_envs_menu_present": true,
   "autoclose": false,
   "autocomplete": true,
   "bibliofile": "biblio.bib",
   "cite_by": "apalike",
   "current_citInitial": 1,
   "eqLabelWithNumbers": true,
   "eqNumInitial": 1,
   "hotkeys": {
    "equation": "Ctrl-E",
    "itemize": "Ctrl-I"
   },
   "labels_anchors": false,
   "latex_user_defs": false,
   "report_style_numbering": false,
   "user_envs_cfg": false
  }
 },
 "nbformat": 4,
 "nbformat_minor": 4
}
